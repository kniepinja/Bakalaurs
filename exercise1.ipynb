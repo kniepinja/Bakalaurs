{
 "cells": [
  {
   "cell_type": "markdown",
   "metadata": {},
   "source": [
    "# Exercise 1"
   ]
  },
  {
   "cell_type": "markdown",
   "metadata": {},
   "source": [
    "1. In Python, if you input value, it will echo. Try a few examples of integers and floating-point numbers, both decimal and scientific notion. <br>\n",
    "For example:<br>\n",
    "10 <br>\n",
    "0.001 <br>\n",
    "1e-3"
   ]
  },
  {
   "cell_type": "code",
   "execution_count": 1,
   "metadata": {},
   "outputs": [
    {
     "data": {
      "text/plain": [
       "10"
      ]
     },
     "execution_count": 1,
     "metadata": {},
     "output_type": "execute_result"
    }
   ],
   "source": [
    "10"
   ]
  },
  {
   "cell_type": "markdown",
   "metadata": {},
   "source": [
    "2. All values have a **type**. In these exercises we will focus on *int*(integer), *float* (floating-point) and *str* (character string) datatypes. <br>\n",
    "The function *type(···)* will tell you the type of a value.<br>\n",
    "Try it on a few of the values you used from the previous question."
   ]
  },
  {
   "cell_type": "code",
   "execution_count": 2,
   "metadata": {
    "scrolled": true
   },
   "outputs": [
    {
     "data": {
      "text/plain": [
       "int"
      ]
     },
     "execution_count": 2,
     "metadata": {},
     "output_type": "execute_result"
    }
   ],
   "source": [
    "type(10)"
   ]
  },
  {
   "cell_type": "markdown",
   "metadata": {},
   "source": [
    "3. Python assumes that numbers without a decimal place (e.g. 17) are integers and numbers with a decimal place (e.g. 17.0 or 17.000001) are floating-point numbers. You can force a variable to be the type you want by being explicit with int(···) and float(···). <br>\n",
    "Try typing in input cell type(17), execute it to see what te result is.<br>\n",
    "Then try type(float(17)) and see the difference."
   ]
  },
  {
   "cell_type": "code",
   "execution_count": null,
   "metadata": {},
   "outputs": [],
   "source": []
  },
  {
   "cell_type": "markdown",
   "metadata": {},
   "source": [
    "Do the same by expicitly converting a floar to an int."
   ]
  },
  {
   "cell_type": "code",
   "execution_count": null,
   "metadata": {},
   "outputs": [],
   "source": []
  },
  {
   "cell_type": "markdown",
   "metadata": {},
   "source": [
    "When we convert a float to an int, does the number get rounded up or down?"
   ]
  },
  {
   "cell_type": "markdown",
   "metadata": {},
   "source": [
    "4. Strings are sequences of alphanumeric characters enclosed in double (e.g. ”hello”) or single (e.g. ’hello’) quotation marks. Strings containing numbers can be converted to integers and floats using int(···) and float(···)as well. <br>\n",
    "Try:<br>\n",
    "\"17\"<br>\n",
    "type(\"17\")<br>\n",
    "float(\"17\")<br>\n",
    "type(float(\"17\"))\n"
   ]
  },
  {
   "cell_type": "code",
   "execution_count": null,
   "metadata": {},
   "outputs": [],
   "source": []
  },
  {
   "cell_type": "markdown",
   "metadata": {},
   "source": [
    "Play around with converting strings to ints and floats. This is important because input from the user will often be in the form of a string, but needs to be converted to a numeric type to be used in calculations."
   ]
  },
  {
   "cell_type": "markdown",
   "metadata": {},
   "source": [
    "5. Python  supports  arithmetic **operators** for  addition  (+),  subtraction  (-),  multiplication   ($*$)  and  division  (/).   In  the  expression a + b, a and b are refered to as the **operands** (a fancy word for arguments) of the operator +. <br>\n",
    "Try out some examples using ints with different operators"
   ]
  },
  {
   "cell_type": "code",
   "execution_count": 3,
   "metadata": {},
   "outputs": [
    {
     "data": {
      "text/plain": [
       "30"
      ]
     },
     "execution_count": 3,
     "metadata": {},
     "output_type": "execute_result"
    }
   ],
   "source": [
    "10*3"
   ]
  },
  {
   "cell_type": "markdown",
   "metadata": {},
   "source": [
    "Note the type returned from division is not the same as others"
   ]
  },
  {
   "cell_type": "code",
   "execution_count": 4,
   "metadata": {},
   "outputs": [
    {
     "data": {
      "text/plain": [
       "3.3333333333333335"
      ]
     },
     "execution_count": 4,
     "metadata": {},
     "output_type": "execute_result"
    }
   ],
   "source": [
    "10/3"
   ]
  },
  {
   "cell_type": "markdown",
   "metadata": {},
   "source": [
    "6. Redo the above examples, but this time use different types as operands and observe the types of the returned values, i.e. int + float and float + float. Inspect the result with type(···) if necessary"
   ]
  },
  {
   "cell_type": "code",
   "execution_count": 5,
   "metadata": {},
   "outputs": [
    {
     "data": {
      "text/plain": [
       "float"
      ]
     },
     "execution_count": 5,
     "metadata": {},
     "output_type": "execute_result"
    }
   ],
   "source": [
    "type(10*3.0)"
   ]
  },
  {
   "cell_type": "markdown",
   "metadata": {},
   "source": [
    "7. Python additionally supports modulus (%), exponentiation (**) and floor division (//).  Test these operators out to ensure you understand what they do."
   ]
  },
  {
   "cell_type": "code",
   "execution_count": 6,
   "metadata": {},
   "outputs": [
    {
     "data": {
      "text/plain": [
       "1"
      ]
     },
     "execution_count": 6,
     "metadata": {},
     "output_type": "execute_result"
    }
   ],
   "source": [
    "10%3"
   ]
  },
  {
   "cell_type": "markdown",
   "metadata": {},
   "source": [
    "8. Write an expression to calculate the following: $x^{2}+ 3x+ 1$. <br>\n",
    "**Hint:** you will need to declare a variable called $x$ first, e.g <br>\n",
    "$x=5$"
   ]
  },
  {
   "cell_type": "code",
   "execution_count": null,
   "metadata": {},
   "outputs": [],
   "source": []
  },
  {
   "cell_type": "markdown",
   "metadata": {},
   "source": [
    "9. Write an expression to calculate the following: $\\frac{1}{3x^2+1}$"
   ]
  },
  {
   "cell_type": "code",
   "execution_count": null,
   "metadata": {},
   "outputs": [],
   "source": []
  },
  {
   "cell_type": "markdown",
   "metadata": {},
   "source": [
    "10. You almost know enough to use Python as a scientific calculator. The missing pieces are useful constants like $π$ and $e$ and functions for roots, trigonometry, etc. Mathematical functions are declared in the math module."
   ]
  },
  {
   "cell_type": "code",
   "execution_count": 7,
   "metadata": {},
   "outputs": [
    {
     "data": {
      "text/plain": [
       "4.0"
      ]
     },
     "execution_count": 7,
     "metadata": {},
     "output_type": "execute_result"
    }
   ],
   "source": [
    "import math\n",
    "math.sqrt(16)"
   ]
  },
  {
   "cell_type": "markdown",
   "metadata": {},
   "source": [
    "Declare variable called *radius* and write an expression to calculate volume of a sphere $\\frac{4}{3} \\pi r^3$"
   ]
  },
  {
   "cell_type": "code",
   "execution_count": null,
   "metadata": {},
   "outputs": [],
   "source": []
  },
  {
   "cell_type": "markdown",
   "metadata": {},
   "source": [
    "11. Type 'hello world' example from the lecture slides, then run it to ensure you have typed correctly: <br>\n",
    "<br>\n",
    "message = \"hello world\" <br>\n",
    "print(message)"
   ]
  },
  {
   "cell_type": "code",
   "execution_count": null,
   "metadata": {},
   "outputs": [],
   "source": []
  },
  {
   "cell_type": "markdown",
   "metadata": {},
   "source": [
    "The *print* function can accept multiple arguments. Change your program to be like the following and run it again:\n",
    "<br> <br>\n",
    "&emsp; message1 = \"hello\"<br>\n",
    "&emsp; message2 = \"world\"<br>\n",
    "&emsp; print(message1, message2)"
   ]
  },
  {
   "cell_type": "markdown",
   "metadata": {},
   "source": [
    "Note that spaces are printed between each variable passed to *print*."
   ]
  },
  {
   "cell_type": "markdown",
   "metadata": {},
   "source": [
    "12. The *input()* function can be used to capture text typed by the user. *input()* can optionally take a string argument to give the user instructions (normally called a prompt). Take the code above and replace the value of the variable called *message2* with a call to *input* with the argument “Enter your name:”. When you run the script it should read:\n",
    "<br><br>\n",
    "&emsp; Enter your name: Alan <br>\n",
    "&emsp; hello Alan"
   ]
  },
  {
   "cell_type": "code",
   "execution_count": null,
   "metadata": {},
   "outputs": [],
   "source": []
  },
  {
   "cell_type": "markdown",
   "metadata": {},
   "source": [
    "13. Take your expression for the volume of a sphere and write a program that prints out the following:\n",
    "<br> <br>\n",
    "The volume of a sphere with radius 1.0 is 4.188790204786390"
   ]
  },
  {
   "cell_type": "markdown",
   "metadata": {},
   "source": [
    "Change the value of the radius manually and rerun the code."
   ]
  },
  {
   "cell_type": "markdown",
   "metadata": {},
   "source": [
    "14. Change the script you just wrote to prompt the user for the radius"
   ]
  },
  {
   "cell_type": "code",
   "execution_count": null,
   "metadata": {},
   "outputs": [],
   "source": []
  }
 ],
 "metadata": {
  "kernelspec": {
   "display_name": "Python 3",
   "language": "python",
   "name": "python3"
  },
  "language_info": {
   "codemirror_mode": {
    "name": "ipython",
    "version": 3
   },
   "file_extension": ".py",
   "mimetype": "text/x-python",
   "name": "python",
   "nbconvert_exporter": "python",
   "pygments_lexer": "ipython3",
   "version": "3.7.1"
  }
 },
 "nbformat": 4,
 "nbformat_minor": 2
}
